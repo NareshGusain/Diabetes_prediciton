{
  "cells": [
    {
      "cell_type": "markdown",
      "metadata": {
        "id": "Wx2SgDN9NKHW"
      },
      "source": [
        "Importing dataset from kaggle\n"
      ]
    },
    {
      "cell_type": "code",
      "execution_count": 1,
      "metadata": {
        "id": "FP6t80VIMoZY"
      },
      "outputs": [],
      "source": [
        "import numpy as np\n",
        "import pandas as pd\n",
        "import matplotlib.pyplot as plt\n",
        "import seaborn as sns\n",
        "from sklearn.model_selection import train_test_split\n",
        "from sklearn.preprocessing import LabelEncoder\n",
        "from sklearn.metrics import precision_score, recall_score, accuracy_score, f1_score, classification_report, confusion_matrix, ConfusionMatrixDisplay\n",
        "\n",
        "\n",
        "import warnings\n",
        "warnings.filterwarnings('ignore')\n"
      ]
    },
    {
      "cell_type": "code",
      "execution_count": 2,
      "metadata": {
        "colab": {
          "base_uri": "https://localhost:8080/",
          "height": 363
        },
        "id": "IRixSY8QM31u",
        "outputId": "80b707a5-aefc-433f-c46c-e36f7ef069cb"
      },
      "outputs": [
        {
          "data": {
            "text/html": [
              "<div>\n",
              "<style scoped>\n",
              "    .dataframe tbody tr th:only-of-type {\n",
              "        vertical-align: middle;\n",
              "    }\n",
              "\n",
              "    .dataframe tbody tr th {\n",
              "        vertical-align: top;\n",
              "    }\n",
              "\n",
              "    .dataframe thead th {\n",
              "        text-align: right;\n",
              "    }\n",
              "</style>\n",
              "<table border=\"1\" class=\"dataframe\">\n",
              "  <thead>\n",
              "    <tr style=\"text-align: right;\">\n",
              "      <th></th>\n",
              "      <th>gender</th>\n",
              "      <th>age</th>\n",
              "      <th>hypertension</th>\n",
              "      <th>heart_disease</th>\n",
              "      <th>smoking_history</th>\n",
              "      <th>bmi</th>\n",
              "      <th>HbA1c_level</th>\n",
              "      <th>blood_glucose_level</th>\n",
              "      <th>diabetes</th>\n",
              "    </tr>\n",
              "  </thead>\n",
              "  <tbody>\n",
              "    <tr>\n",
              "      <th>0</th>\n",
              "      <td>Female</td>\n",
              "      <td>80.0</td>\n",
              "      <td>0</td>\n",
              "      <td>1</td>\n",
              "      <td>never</td>\n",
              "      <td>25.19</td>\n",
              "      <td>6.6</td>\n",
              "      <td>140</td>\n",
              "      <td>0</td>\n",
              "    </tr>\n",
              "    <tr>\n",
              "      <th>1</th>\n",
              "      <td>Female</td>\n",
              "      <td>54.0</td>\n",
              "      <td>0</td>\n",
              "      <td>0</td>\n",
              "      <td>No Info</td>\n",
              "      <td>27.32</td>\n",
              "      <td>6.6</td>\n",
              "      <td>80</td>\n",
              "      <td>0</td>\n",
              "    </tr>\n",
              "    <tr>\n",
              "      <th>2</th>\n",
              "      <td>Male</td>\n",
              "      <td>28.0</td>\n",
              "      <td>0</td>\n",
              "      <td>0</td>\n",
              "      <td>never</td>\n",
              "      <td>27.32</td>\n",
              "      <td>5.7</td>\n",
              "      <td>158</td>\n",
              "      <td>0</td>\n",
              "    </tr>\n",
              "    <tr>\n",
              "      <th>3</th>\n",
              "      <td>Female</td>\n",
              "      <td>36.0</td>\n",
              "      <td>0</td>\n",
              "      <td>0</td>\n",
              "      <td>current</td>\n",
              "      <td>23.45</td>\n",
              "      <td>5.0</td>\n",
              "      <td>155</td>\n",
              "      <td>0</td>\n",
              "    </tr>\n",
              "    <tr>\n",
              "      <th>4</th>\n",
              "      <td>Male</td>\n",
              "      <td>76.0</td>\n",
              "      <td>1</td>\n",
              "      <td>1</td>\n",
              "      <td>current</td>\n",
              "      <td>20.14</td>\n",
              "      <td>4.8</td>\n",
              "      <td>155</td>\n",
              "      <td>0</td>\n",
              "    </tr>\n",
              "  </tbody>\n",
              "</table>\n",
              "</div>"
            ],
            "text/plain": [
              "   gender   age  hypertension  heart_disease smoking_history    bmi  \\\n",
              "0  Female  80.0             0              1           never  25.19   \n",
              "1  Female  54.0             0              0         No Info  27.32   \n",
              "2    Male  28.0             0              0           never  27.32   \n",
              "3  Female  36.0             0              0         current  23.45   \n",
              "4    Male  76.0             1              1         current  20.14   \n",
              "\n",
              "   HbA1c_level  blood_glucose_level  diabetes  \n",
              "0          6.6                  140         0  \n",
              "1          6.6                   80         0  \n",
              "2          5.7                  158         0  \n",
              "3          5.0                  155         0  \n",
              "4          4.8                  155         0  "
            ]
          },
          "execution_count": 2,
          "metadata": {},
          "output_type": "execute_result"
        }
      ],
      "source": [
        "df = pd.read_csv(r'C:\\Users\\nares\\OneDrive\\Documents\\PythonPrograms\\Diabetes_Prediction\\diabetes_prediction_dataset.csv')\n",
        "df.head()"
      ]
    },
    {
      "cell_type": "code",
      "execution_count": 3,
      "metadata": {},
      "outputs": [
        {
          "data": {
            "text/plain": [
              "array(['never', 'No Info', 'current', 'former', 'ever', 'not current'],\n",
              "      dtype=object)"
            ]
          },
          "execution_count": 3,
          "metadata": {},
          "output_type": "execute_result"
        }
      ],
      "source": [
        "df['smoking_history'].unique()"
      ]
    },
    {
      "cell_type": "code",
      "execution_count": 4,
      "metadata": {
        "colab": {
          "base_uri": "https://localhost:8080/",
          "height": 300
        },
        "id": "0-RkzlzoSUrJ",
        "outputId": "02035265-eb12-4b6b-afa8-50d05f7d9c0f"
      },
      "outputs": [
        {
          "name": "stdout",
          "output_type": "stream",
          "text": [
            "<class 'pandas.core.frame.DataFrame'>\n",
            "RangeIndex: 100000 entries, 0 to 99999\n",
            "Data columns (total 9 columns):\n",
            " #   Column               Non-Null Count   Dtype  \n",
            "---  ------               --------------   -----  \n",
            " 0   gender               100000 non-null  object \n",
            " 1   age                  100000 non-null  float64\n",
            " 2   hypertension         100000 non-null  int64  \n",
            " 3   heart_disease        100000 non-null  int64  \n",
            " 4   smoking_history      100000 non-null  object \n",
            " 5   bmi                  100000 non-null  float64\n",
            " 6   HbA1c_level          100000 non-null  float64\n",
            " 7   blood_glucose_level  100000 non-null  int64  \n",
            " 8   diabetes             100000 non-null  int64  \n",
            "dtypes: float64(3), int64(4), object(2)\n",
            "memory usage: 6.9+ MB\n"
          ]
        }
      ],
      "source": [
        "df.describe()\n",
        "# df.shape\n",
        "df.info()"
      ]
    },
    {
      "attachments": {},
      "cell_type": "markdown",
      "metadata": {},
      "source": [
        "## Removing Duplicate rows"
      ]
    },
    {
      "cell_type": "code",
      "execution_count": 5,
      "metadata": {},
      "outputs": [
        {
          "data": {
            "text/html": [
              "<div>\n",
              "<style scoped>\n",
              "    .dataframe tbody tr th:only-of-type {\n",
              "        vertical-align: middle;\n",
              "    }\n",
              "\n",
              "    .dataframe tbody tr th {\n",
              "        vertical-align: top;\n",
              "    }\n",
              "\n",
              "    .dataframe thead th {\n",
              "        text-align: right;\n",
              "    }\n",
              "</style>\n",
              "<table border=\"1\" class=\"dataframe\">\n",
              "  <thead>\n",
              "    <tr style=\"text-align: right;\">\n",
              "      <th></th>\n",
              "      <th>gender</th>\n",
              "      <th>age</th>\n",
              "      <th>hypertension</th>\n",
              "      <th>heart_disease</th>\n",
              "      <th>smoking_history</th>\n",
              "      <th>bmi</th>\n",
              "      <th>HbA1c_level</th>\n",
              "      <th>blood_glucose_level</th>\n",
              "      <th>diabetes</th>\n",
              "    </tr>\n",
              "  </thead>\n",
              "  <tbody>\n",
              "    <tr>\n",
              "      <th>2756</th>\n",
              "      <td>Male</td>\n",
              "      <td>80.0</td>\n",
              "      <td>0</td>\n",
              "      <td>0</td>\n",
              "      <td>No Info</td>\n",
              "      <td>27.32</td>\n",
              "      <td>6.6</td>\n",
              "      <td>159</td>\n",
              "      <td>0</td>\n",
              "    </tr>\n",
              "    <tr>\n",
              "      <th>3272</th>\n",
              "      <td>Female</td>\n",
              "      <td>80.0</td>\n",
              "      <td>0</td>\n",
              "      <td>0</td>\n",
              "      <td>No Info</td>\n",
              "      <td>27.32</td>\n",
              "      <td>3.5</td>\n",
              "      <td>80</td>\n",
              "      <td>0</td>\n",
              "    </tr>\n",
              "    <tr>\n",
              "      <th>3418</th>\n",
              "      <td>Female</td>\n",
              "      <td>19.0</td>\n",
              "      <td>0</td>\n",
              "      <td>0</td>\n",
              "      <td>No Info</td>\n",
              "      <td>27.32</td>\n",
              "      <td>6.5</td>\n",
              "      <td>100</td>\n",
              "      <td>0</td>\n",
              "    </tr>\n",
              "    <tr>\n",
              "      <th>3939</th>\n",
              "      <td>Female</td>\n",
              "      <td>78.0</td>\n",
              "      <td>1</td>\n",
              "      <td>0</td>\n",
              "      <td>former</td>\n",
              "      <td>27.32</td>\n",
              "      <td>3.5</td>\n",
              "      <td>130</td>\n",
              "      <td>0</td>\n",
              "    </tr>\n",
              "    <tr>\n",
              "      <th>3960</th>\n",
              "      <td>Male</td>\n",
              "      <td>47.0</td>\n",
              "      <td>0</td>\n",
              "      <td>0</td>\n",
              "      <td>No Info</td>\n",
              "      <td>27.32</td>\n",
              "      <td>6.0</td>\n",
              "      <td>200</td>\n",
              "      <td>0</td>\n",
              "    </tr>\n",
              "  </tbody>\n",
              "</table>\n",
              "</div>"
            ],
            "text/plain": [
              "      gender   age  hypertension  heart_disease smoking_history    bmi  \\\n",
              "2756    Male  80.0             0              0         No Info  27.32   \n",
              "3272  Female  80.0             0              0         No Info  27.32   \n",
              "3418  Female  19.0             0              0         No Info  27.32   \n",
              "3939  Female  78.0             1              0          former  27.32   \n",
              "3960    Male  47.0             0              0         No Info  27.32   \n",
              "\n",
              "      HbA1c_level  blood_glucose_level  diabetes  \n",
              "2756          6.6                  159         0  \n",
              "3272          3.5                   80         0  \n",
              "3418          6.5                  100         0  \n",
              "3939          3.5                  130         0  \n",
              "3960          6.0                  200         0  "
            ]
          },
          "execution_count": 5,
          "metadata": {},
          "output_type": "execute_result"
        }
      ],
      "source": [
        "df_duplicates = df[df.duplicated() == True]\n",
        "df_duplicates.head()"
      ]
    },
    {
      "cell_type": "code",
      "execution_count": 6,
      "metadata": {},
      "outputs": [
        {
          "data": {
            "text/plain": [
              "0"
            ]
          },
          "execution_count": 6,
          "metadata": {},
          "output_type": "execute_result"
        }
      ],
      "source": [
        "df.drop_duplicates(inplace=True)\n",
        "df.duplicated().sum()\n"
      ]
    },
    {
      "attachments": {},
      "cell_type": "markdown",
      "metadata": {},
      "source": [
        "# Value Counts"
      ]
    },
    {
      "cell_type": "code",
      "execution_count": 7,
      "metadata": {},
      "outputs": [
        {
          "name": "stdout",
          "output_type": "stream",
          "text": [
            "Female    56161\n",
            "Male      39967\n",
            "Other        18\n",
            "Name: gender, dtype: int64\n",
            "\n",
            "-------******-------\n",
            "never          34398\n",
            "No Info        32887\n",
            "former          9299\n",
            "current         9197\n",
            "not current     6367\n",
            "ever            3998\n",
            "Name: smoking_history, dtype: int64\n"
          ]
        }
      ],
      "source": [
        "# for i in (df['gender','smoking_history']):\n",
        "#     print(df[i].value_counts())\n",
        "\n",
        "print(df['gender'].value_counts()) \n",
        "print(\"\\n-------******-------\")\n",
        "print(df['smoking_history'].value_counts())\n"
      ]
    },
    {
      "cell_type": "markdown",
      "metadata": {
        "id": "9mQqckQ6YMFs"
      },
      "source": [
        "# **Label Encoder for GENDER & SMOKING HISTORY**"
      ]
    },
    {
      "cell_type": "code",
      "execution_count": 8,
      "metadata": {
        "colab": {
          "base_uri": "https://localhost:8080/",
          "height": 206
        },
        "id": "PosR2RjzW61g",
        "outputId": "08882490-3b2d-4e75-e555-cebbbb069b54"
      },
      "outputs": [
        {
          "name": "stdout",
          "output_type": "stream",
          "text": [
            "<class 'pandas.core.frame.DataFrame'>\n",
            "Int64Index: 96146 entries, 0 to 99999\n",
            "Data columns (total 9 columns):\n",
            " #   Column               Non-Null Count  Dtype  \n",
            "---  ------               --------------  -----  \n",
            " 0   gender               96146 non-null  float64\n",
            " 1   age                  96146 non-null  float64\n",
            " 2   hypertension         96146 non-null  float64\n",
            " 3   heart_disease        96146 non-null  float64\n",
            " 4   smoking_history      96146 non-null  float64\n",
            " 5   bmi                  96146 non-null  float64\n",
            " 6   HbA1c_level          96146 non-null  float64\n",
            " 7   blood_glucose_level  96146 non-null  float64\n",
            " 8   diabetes             96146 non-null  float64\n",
            "dtypes: float64(9)\n",
            "memory usage: 7.3 MB\n"
          ]
        }
      ],
      "source": [
        "# le = LabelEncoder()\n",
        "# df['gender']= le.fit_transform(df['gender'])\n",
        "# df['smoking_history']= le.fit_transform(df['smoking_history'])\n",
        "# df.head()\n",
        "\n",
        "le_gender = LabelEncoder()\n",
        "df['gender'] = le_gender.fit_transform(df['gender'])\n",
        " \n",
        "le_hypertension = LabelEncoder()\n",
        "df['hypertension'] = le_hypertension.fit_transform(df['hypertension'])\n",
        "\n",
        "le_heart_disease = LabelEncoder()\n",
        "df['heart_disease'] = le_heart_disease.fit_transform(df['heart_disease'])\n",
        "\n",
        "le_smoking_history = LabelEncoder()\n",
        "df['smoking_history'] = le_smoking_history.fit_transform(df['smoking_history'])\n",
        "df = df.astype(float)\n",
        "df.info()\n"
      ]
    },
    {
      "cell_type": "code",
      "execution_count": 9,
      "metadata": {
        "id": "j9duCM6kTS6d"
      },
      "outputs": [],
      "source": [
        " X = df[df.columns[:-1]].values\n",
        " y = df[df.columns[-1]].values"
      ]
    },
    {
      "cell_type": "code",
      "execution_count": 10,
      "metadata": {
        "colab": {
          "base_uri": "https://localhost:8080/"
        },
        "id": "2XT5ghR4iokG",
        "outputId": "2288a840-0432-4a02-ea81-72713ddc82d1"
      },
      "outputs": [
        {
          "name": "stdout",
          "output_type": "stream",
          "text": [
            "X_train:  (76916, 8)\n",
            "X_test:  (19230, 8)\n",
            "y_train:  (76916,)\n",
            "y_test:  (19230,)\n"
          ]
        }
      ],
      "source": [
        "X_train , X_test, y_train, y_test = train_test_split(X,y,random_state=0,train_size=0.8)\n",
        "print('X_train: ',X_train.shape)\n",
        "print('X_test: ',X_test.shape)\n",
        "print('y_train: ',y_train.shape)\n",
        "print('y_test: ',y_test.shape)"
      ]
    },
    {
      "cell_type": "markdown",
      "metadata": {
        "id": "cKTOMP9JjHZX"
      },
      "source": [
        "# **Logistic Regression**\n"
      ]
    },
    {
      "cell_type": "code",
      "execution_count": 11,
      "metadata": {
        "id": "NJLPiYNgi_yp"
      },
      "outputs": [],
      "source": [
        "from sklearn.linear_model import LogisticRegression"
      ]
    },
    {
      "cell_type": "code",
      "execution_count": 12,
      "metadata": {
        "id": "bcLEPO7sjja9"
      },
      "outputs": [],
      "source": [
        "lg = LogisticRegression()\n",
        "lg = lg.fit(X_train, y_train)"
      ]
    },
    {
      "cell_type": "code",
      "execution_count": 13,
      "metadata": {
        "colab": {
          "base_uri": "https://localhost:8080/"
        },
        "id": "fqnTBJozkL4X",
        "outputId": "7ccc3ffc-4a55-4454-9013-309420a0a602"
      },
      "outputs": [
        {
          "name": "stdout",
          "output_type": "stream",
          "text": [
            "              precision    recall  f1-score   support\n",
            "\n",
            "         0.0       0.97      0.99      0.98     17562\n",
            "         1.0       0.84      0.62      0.72      1668\n",
            "\n",
            "    accuracy                           0.96     19230\n",
            "   macro avg       0.90      0.81      0.85     19230\n",
            "weighted avg       0.95      0.96      0.95     19230\n",
            "\n"
          ]
        }
      ],
      "source": [
        "y_pred = lg.predict(X_test)\n",
        "print(classification_report(y_test, y_pred))"
      ]
    },
    {
      "cell_type": "code",
      "execution_count": 20,
      "metadata": {},
      "outputs": [
        {
          "name": "stdout",
          "output_type": "stream",
          "text": [
            "Prediciton: [1.]\n"
          ]
        }
      ],
      "source": [
        "features = np.array([[ 0 ,  65 ,    0 ,   1  ,   0  ,  27.32,   6.5 , 200]])\n",
        "prediction = lg.predict(features)\n",
        "print(\"Prediciton: {}\".format(prediction))"
      ]
    },
    {
      "cell_type": "markdown",
      "metadata": {
        "id": "3DcY4FLsl2GL"
      },
      "source": [
        "# **KNN**"
      ]
    },
    {
      "cell_type": "code",
      "execution_count": 53,
      "metadata": {
        "colab": {
          "base_uri": "https://localhost:8080/"
        },
        "id": "q407K2Talu1d",
        "outputId": "cc0a9ee7-725b-4b45-fc1c-d1e967a0c741"
      },
      "outputs": [
        {
          "name": "stdout",
          "output_type": "stream",
          "text": [
            "              precision    recall  f1-score   support\n",
            "\n",
            "           0       0.96      0.99      0.97     17562\n",
            "           1       0.86      0.53      0.66      1668\n",
            "\n",
            "    accuracy                           0.95     19230\n",
            "   macro avg       0.91      0.76      0.82     19230\n",
            "weighted avg       0.95      0.95      0.95     19230\n",
            "\n"
          ]
        }
      ],
      "source": [
        "y_pred = knn_model.predict(X_test)\n",
        "print(classification_report(y_test, y_pred))"
      ]
    },
    {
      "cell_type": "markdown",
      "metadata": {
        "id": "eYhbVGkypF_4"
      },
      "source": [
        "# **Neural Network**"
      ]
    },
    {
      "cell_type": "code",
      "execution_count": 54,
      "metadata": {
        "id": "kxt33cDrlyol"
      },
      "outputs": [],
      "source": [
        "import tensorflow as tf"
      ]
    },
    {
      "cell_type": "code",
      "execution_count": 55,
      "metadata": {
        "id": "EVAL9Qf9pSQ7"
      },
      "outputs": [],
      "source": [
        " nn_model = tf.keras.Sequential()\n",
        "#       tf.keras.layers.Dense(num_nodes, activation='relu', input_shape=(9,)),\n",
        "#       tf.keras.layers.Dropout(dropout_prob),\n",
        "#       tf.keras.layers.Dense(num_nodes, activation='relu'),\n",
        "#       tf.keras.layers.Dropout(dropout_prob),\n",
        "#       tf.keras.layers.Dense(1, activation='sigmoid')\n",
        "#   ])\n",
        "\n",
        "nn_model.add(tf.keras.layers.Dense(units=9,activation=\"relu\"))\n",
        "nn_model.add(tf.keras.layers.Dense(units=1,activation=\"sigmoid\"))\n",
        "nn_model.compile(optimizer=\"adam\",loss=\"binary_crossentropy\",metrics=['accuracy'])  \n",
        "#loss:- specifies which loss function should be used. For binary classification, the value should be binary_crossentropy. For multiclass classification, it should be categorical_crossentropy.\n"
      ]
    },
    {
      "cell_type": "code",
      "execution_count": 56,
      "metadata": {
        "colab": {
          "base_uri": "https://localhost:8080/"
        },
        "id": "OpqxV7sPqHyW",
        "outputId": "8dea46c2-5583-4b28-9c2a-bc58cddf3b26"
      },
      "outputs": [
        {
          "name": "stdout",
          "output_type": "stream",
          "text": [
            "Epoch 1/20\n",
            "2404/2404 [==============================] - 2s 798us/step - loss: 0.7430 - accuracy: 0.8705\n",
            "Epoch 2/20\n",
            "2404/2404 [==============================] - 2s 790us/step - loss: 0.2769 - accuracy: 0.9150\n",
            "Epoch 3/20\n",
            "2404/2404 [==============================] - 2s 765us/step - loss: 0.2429 - accuracy: 0.9209\n",
            "Epoch 4/20\n",
            "2404/2404 [==============================] - 2s 782us/step - loss: 0.2131 - accuracy: 0.9272\n",
            "Epoch 5/20\n",
            "2404/2404 [==============================] - 2s 766us/step - loss: 0.1902 - accuracy: 0.9339\n",
            "Epoch 6/20\n",
            "2404/2404 [==============================] - 2s 776us/step - loss: 0.1732 - accuracy: 0.9392\n",
            "Epoch 7/20\n",
            "2404/2404 [==============================] - 2s 783us/step - loss: 0.1598 - accuracy: 0.9438\n",
            "Epoch 8/20\n",
            "2404/2404 [==============================] - 2s 770us/step - loss: 0.1503 - accuracy: 0.9475\n",
            "Epoch 9/20\n",
            "2404/2404 [==============================] - 2s 779us/step - loss: 0.1422 - accuracy: 0.9509\n",
            "Epoch 10/20\n",
            "2404/2404 [==============================] - 2s 776us/step - loss: 0.1385 - accuracy: 0.9520\n",
            "Epoch 11/20\n",
            "2404/2404 [==============================] - 2s 787us/step - loss: 0.1349 - accuracy: 0.9528\n",
            "Epoch 12/20\n",
            "2404/2404 [==============================] - 2s 797us/step - loss: 0.1324 - accuracy: 0.9533\n",
            "Epoch 13/20\n",
            "2404/2404 [==============================] - 2s 793us/step - loss: 0.1299 - accuracy: 0.9541\n",
            "Epoch 14/20\n",
            "2404/2404 [==============================] - 2s 790us/step - loss: 0.1292 - accuracy: 0.9550\n",
            "Epoch 15/20\n",
            "2404/2404 [==============================] - 2s 792us/step - loss: 0.1287 - accuracy: 0.9543\n",
            "Epoch 16/20\n",
            "2404/2404 [==============================] - 2s 777us/step - loss: 0.1281 - accuracy: 0.9546\n",
            "Epoch 17/20\n",
            "2404/2404 [==============================] - 2s 788us/step - loss: 0.1271 - accuracy: 0.9555\n",
            "Epoch 18/20\n",
            "2404/2404 [==============================] - 2s 775us/step - loss: 0.1263 - accuracy: 0.9551\n",
            "Epoch 19/20\n",
            "2404/2404 [==============================] - 2s 782us/step - loss: 0.1267 - accuracy: 0.9554\n",
            "Epoch 20/20\n",
            "2404/2404 [==============================] - 2s 794us/step - loss: 0.1256 - accuracy: 0.9554\n"
          ]
        },
        {
          "data": {
            "text/plain": [
              "<keras.callbacks.History at 0x1ec7d9c2810>"
            ]
          },
          "execution_count": 56,
          "metadata": {},
          "output_type": "execute_result"
        }
      ],
      "source": [
        "nn_model.fit(X_train,y_train,batch_size=32,epochs = 20)"
      ]
    },
    {
      "attachments": {},
      "cell_type": "markdown",
      "metadata": {},
      "source": [
        "## Input from USER"
      ]
    },
    {
      "cell_type": "code",
      "execution_count": 32,
      "metadata": {},
      "outputs": [
        {
          "data": {
            "text/plain": [
              "array([['Male', '65.0', 'No', 'Yes', 'never', '31.94', '7.43', '200']],\n",
              "      dtype='<U32')"
            ]
          },
          "execution_count": 32,
          "metadata": {},
          "output_type": "execute_result"
        }
      ],
      "source": [
        "#0 ,  65 ,    0 ,   1  ,   0  ,  27.32,   6.5 , 200\n",
        "X = np.array([['Male',65.0,'No','Yes','never',31.94,7.43,200,]])\n",
        "X"
      ]
    },
    {
      "cell_type": "code",
      "execution_count": 33,
      "metadata": {},
      "outputs": [
        {
          "data": {
            "text/plain": [
              "array([[  0.  ,  65.  ,   0.  ,   0.  ,   0.  ,  31.94,   7.43, 200.  ]])"
            ]
          },
          "execution_count": 33,
          "metadata": {},
          "output_type": "execute_result"
        }
      ],
      "source": [
        "X[:, 0]= le_gender.fit_transform(X[:,0])\n",
        "X[:, 2]= le_hypertension.fit_transform(X[:,2])\n",
        "X[:, 3]= le_heart_disease.fit_transform(X[:,3])\n",
        "X[:, 4]= le_smoking_history.fit_transform(X[:,4])\n",
        "X = X.astype(float)\n",
        "X"
      ]
    },
    {
      "cell_type": "code",
      "execution_count": 36,
      "metadata": {},
      "outputs": [
        {
          "name": "stdout",
          "output_type": "stream",
          "text": [
            "[1.]\n",
            "Yes\n"
          ]
        }
      ],
      "source": [
        "y_predforX = lg.predict(X)\n",
        "print(y_predforX)\n",
        "if 0 in y_predforX:\n",
        "    print(\"NO\")\n",
        "else:\n",
        "    print('Yes')\n",
        "\n",
        "\n",
        "# features = np.array([[0,45,1,0,3,26,4.6,145]])\n",
        "# prediction = lg.predict(features)\n",
        "# print(\"Prediciton: {}\".format(prediction))"
      ]
    },
    {
      "cell_type": "code",
      "execution_count": 28,
      "metadata": {
        "id": "Ly_I-R3eSOUx"
      },
      "outputs": [],
      "source": [
        "import pickle"
      ]
    },
    {
      "cell_type": "code",
      "execution_count": 29,
      "metadata": {},
      "outputs": [],
      "source": [
        "data = {'model': lg, 'le_gender':le_gender, 'le_hypertension': le_hypertension, 'le_heart_disease': le_heart_disease, 'le_smoking_history': le_smoking_history}\n",
        "with open('saved_steps.pkl', 'wb') as file:\n",
        "   pickle.dump(data,file)"
      ]
    },
    {
      "cell_type": "code",
      "execution_count": 30,
      "metadata": {},
      "outputs": [],
      "source": [
        "with open('saved_steps.pkl','rb') as file:\n",
        "    data = pickle.load(file)\n",
        "\n",
        "lg_loaded = data['model']\n",
        "le_gender = data['le_gender']\n",
        "le_hypertension = data['le_hypertension']\n",
        "le_heart_disease = data['le_heart_disease']\n",
        "le_smoking_history = data['le_smoking_history']"
      ]
    },
    {
      "cell_type": "code",
      "execution_count": 31,
      "metadata": {},
      "outputs": [
        {
          "data": {
            "text/plain": [
              "array([0.])"
            ]
          },
          "execution_count": 31,
          "metadata": {},
          "output_type": "execute_result"
        }
      ],
      "source": [
        "y_pred = lg_loaded.predict(X)\n",
        "y_pred"
      ]
    },
    {
      "cell_type": "code",
      "execution_count": null,
      "metadata": {},
      "outputs": [],
      "source": []
    }
  ],
  "metadata": {
    "accelerator": "TPU",
    "colab": {
      "provenance": []
    },
    "kernelspec": {
      "display_name": "Python 3",
      "name": "python3"
    },
    "language_info": {
      "codemirror_mode": {
        "name": "ipython",
        "version": 3
      },
      "file_extension": ".py",
      "mimetype": "text/x-python",
      "name": "python",
      "nbconvert_exporter": "python",
      "pygments_lexer": "ipython3",
      "version": "3.11.0"
    }
  },
  "nbformat": 4,
  "nbformat_minor": 0
}
